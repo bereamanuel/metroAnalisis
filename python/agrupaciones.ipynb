{
 "cells": [
  {
   "cell_type": "code",
   "execution_count": 16,
   "metadata": {},
   "outputs": [],
   "source": [
    "import pandas as pd \n",
    "\n",
    "calendario = pd.read_csv('../data/calendarioMadrid.csv' , encoding= 'latin-1')\n",
    "clima = pd.read_csv('../data/temperaturaMadrid20122019.csv')\n",
    "metro = pd.read_csv('../data/datosMetroMes.csv')"
   ]
  },
  {
   "cell_type": "code",
   "execution_count": 18,
   "metadata": {},
   "outputs": [],
   "source": [
    "clima.drop(['indicativo','nombre','altitud','provincia','horatmin','horatmax','horaracha','horaPresMax'],axis = 1, inplace= True)\n",
    "clima = clima.groupby('fecha').mean()\n",
    "clima = clima.reset_index()"
   ]
  },
  {
   "cell_type": "code",
   "execution_count": 20,
   "metadata": {},
   "outputs": [],
   "source": [
    "calendario = calendario.drop_duplicates()\n",
    "calendario.columns = ['fecha', 'Día_semana', 'laborable','tipoFestivo', 'festividad']"
   ]
  },
  {
   "cell_type": "code",
   "execution_count": 21,
   "metadata": {},
   "outputs": [],
   "source": [
    "final = metro.merge(calendario, on='fecha', how='left')\n",
    "final = final.merge(clima, on='fecha', how='left')"
   ]
  },
  {
   "cell_type": "code",
   "execution_count": 31,
   "metadata": {},
   "outputs": [],
   "source": [
    "final.to_csv('../data/dfFinal.csv', index =False)"
   ]
  }
 ],
 "metadata": {
  "interpreter": {
   "hash": "de072921dc87486613898b1ef56959cc98c50a630fb49de1898fb32d92a683cf"
  },
  "kernelspec": {
   "display_name": "Python 3.9.4 64-bit",
   "language": "python",
   "name": "python3"
  },
  "language_info": {
   "codemirror_mode": {
    "name": "ipython",
    "version": 3
   },
   "file_extension": ".py",
   "mimetype": "text/x-python",
   "name": "python",
   "nbconvert_exporter": "python",
   "pygments_lexer": "ipython3",
   "version": "3.9.4"
  },
  "orig_nbformat": 4
 },
 "nbformat": 4,
 "nbformat_minor": 2
}
