{
 "cells": [
  {
   "cell_type": "code",
   "execution_count": 99,
   "metadata": {},
   "outputs": [],
   "source": [
    "import pandas as pd \n",
    "\n",
    "calendario = pd.read_csv('../data/calendarioMadrid.csv' , encoding= 'latin-1')\n",
    "clima = pd.read_csv('../data/temperaturaMadrid20122018.csv')\n",
    "metro = pd.read_csv('../data/Metro_Interstate_Traffic_Volume.csv')"
   ]
  },
  {
   "cell_type": "code",
   "execution_count": 100,
   "metadata": {},
   "outputs": [],
   "source": [
    "clima = clima.drop(['indicativo','id','nombre','altitud','provincia','horatmin','horatmax','horaracha','horaPresMax'],axis = 1)\n",
    "clima = clima.groupby('fecha').mean()\n",
    "clima = clima.reset_index()"
   ]
  },
  {
   "cell_type": "code",
   "execution_count": 101,
   "metadata": {},
   "outputs": [],
   "source": [
    "metro = metro[['date_time','traffic_volume']]\n",
    "metro['date_time'] = metro['date_time'].apply(lambda x : x.split(' ')[0])\n",
    "metro = metro.groupby('date_time').sum()\n",
    "metro['fecha'] = metro.index\n",
    "\n",
    "metro['dia'] = metro['fecha'].apply(lambda x : x.split('-')[2])\n",
    "metro['mes'] = metro['fecha'].apply(lambda x : x.split('-')[1])\n",
    "metro['ano'] = metro['fecha'].apply(lambda x : x.split('-')[0])\n",
    "metro['fecha'] = metro['dia']+'/'+metro['mes']+'/'+metro['ano'] "
   ]
  },
  {
   "cell_type": "code",
   "execution_count": 102,
   "metadata": {},
   "outputs": [],
   "source": [
    "calendario = calendario.drop_duplicates()\n",
    "calendario.columns = ['fecha', 'Día_semana', 'laborable','tipoFestivo', 'festividad']"
   ]
  },
  {
   "cell_type": "code",
   "execution_count": 103,
   "metadata": {},
   "outputs": [],
   "source": [
    "final = metro.merge(calendario, on='fecha', how='left')\n",
    "final = final.merge(clima, on='fecha', how='left')"
   ]
  },
  {
   "cell_type": "code",
   "execution_count": 106,
   "metadata": {},
   "outputs": [],
   "source": [
    "final.to_csv('../data/dfFinal.csv')"
   ]
  }
 ],
 "metadata": {
  "interpreter": {
   "hash": "de072921dc87486613898b1ef56959cc98c50a630fb49de1898fb32d92a683cf"
  },
  "kernelspec": {
   "display_name": "Python 3.9.4 64-bit",
   "language": "python",
   "name": "python3"
  },
  "language_info": {
   "codemirror_mode": {
    "name": "ipython",
    "version": 3
   },
   "file_extension": ".py",
   "mimetype": "text/x-python",
   "name": "python",
   "nbconvert_exporter": "python",
   "pygments_lexer": "ipython3",
   "version": "3.9.4"
  },
  "orig_nbformat": 4
 },
 "nbformat": 4,
 "nbformat_minor": 2
}
