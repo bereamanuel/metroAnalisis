{
 "cells": [
  {
   "cell_type": "code",
   "execution_count": 10,
   "metadata": {},
   "outputs": [],
   "source": [
    "import sqlite3\n",
    "import pandas as pd \n",
    "conexion = sqlite3.connect('../data/metroBD.db')\n",
    "cursor = conexion.cursor()"
   ]
  },
  {
   "cell_type": "code",
   "execution_count": 11,
   "metadata": {},
   "outputs": [
    {
     "data": {
      "text/plain": [
       "<sqlite3.Cursor at 0x220e0f80110>"
      ]
     },
     "execution_count": 11,
     "metadata": {},
     "output_type": "execute_result"
    }
   ],
   "source": [
    "cursor.execute(\"CREATE TABLE IF NOT EXISTS calendario \" \\\n",
    "                \"(dia DATE, diaSemana VARCHAR(20), laborable VARCHAR(20) , tipoFestividad VARCHAR(20) ,nombreFestividad VARCHAR(50) )\")\n"
   ]
  },
  {
   "cell_type": "code",
   "execution_count": 12,
   "metadata": {},
   "outputs": [
    {
     "data": {
      "text/plain": [
       "<sqlite3.Cursor at 0x220e0f80110>"
      ]
     },
     "execution_count": 12,
     "metadata": {},
     "output_type": "execute_result"
    }
   ],
   "source": [
    "cursor.execute(\"CREATE TABLE IF NOT EXISTS clima \" \\\n",
    "                \"( fecha DATE, indicativo VARCHAR(20), nombre VARCHAR(20) , provincia VARCHAR(20) ,altitud FLOAT , tmed FLOAT , \\\n",
    "                   prec FLOAT, tmin FLOAT , horatmin VARCHAR(20) , tmax FLOAT , horatmax VARCHAR(20) , dir FLOAT, velmedia FLOAT , \\\n",
    "                       racha FLOAT , horaracha VARCHAR(20) , presmax FLOAT , horapresmax VARCHAR(20) , presmin FLOAT, horapresmin VARCHAR(20) )\")"
   ]
  },
  {
   "cell_type": "code",
   "execution_count": 13,
   "metadata": {},
   "outputs": [
    {
     "data": {
      "text/plain": [
       "<sqlite3.Cursor at 0x220e0f80110>"
      ]
     },
     "execution_count": 13,
     "metadata": {},
     "output_type": "execute_result"
    }
   ],
   "source": [
    "cursor.execute(\"CREATE TABLE IF NOT EXISTS metro \" \\\n",
    "                \"(fecha DATE,  volumen INT )\")"
   ]
  },
  {
   "cell_type": "code",
   "execution_count": 14,
   "metadata": {},
   "outputs": [],
   "source": [
    "calendario = pd.read_csv('../data/calendarioMadrid.csv' , encoding= 'latin-1')\n",
    "clima = pd.read_csv('../data/temperaturaMadrid20122019.csv')\n",
    "metro = pd.read_csv('../data/datosMetroMes.csv')\n",
    "calendario = calendario.drop_duplicates()\n",
    "clima = clima.drop_duplicates()\n",
    "metro = metro.drop_duplicates()\n",
    "calendario = calendario.values.tolist()\n",
    "clima = clima.values.tolist()\n",
    "metro = metro.values.tolist()"
   ]
  },
  {
   "cell_type": "code",
   "execution_count": 16,
   "metadata": {},
   "outputs": [],
   "source": [
    "cursor.executemany(\"INSERT INTO clima VALUES (?,?,?,?,?,?,?,?,?,?,?,?,?,?,?,?,?,?,?)\", clima)\n",
    "conexion.commit()"
   ]
  },
  {
   "cell_type": "code",
   "execution_count": 17,
   "metadata": {},
   "outputs": [],
   "source": [
    "cursor.executemany(\"INSERT INTO metro VALUES (?,?)\", metro)\n",
    "conexion.commit()"
   ]
  },
  {
   "cell_type": "code",
   "execution_count": 18,
   "metadata": {},
   "outputs": [],
   "source": [
    "cursor.executemany(\"INSERT INTO calendario VALUES (?,?,?,?,?)\", calendario)\n",
    "conexion.commit()"
   ]
  },
  {
   "cell_type": "code",
   "execution_count": 19,
   "metadata": {},
   "outputs": [],
   "source": [
    "conexion.close()"
   ]
  }
 ],
 "metadata": {
  "interpreter": {
   "hash": "de072921dc87486613898b1ef56959cc98c50a630fb49de1898fb32d92a683cf"
  },
  "kernelspec": {
   "display_name": "Python 3.9.4 64-bit",
   "language": "python",
   "name": "python3"
  },
  "language_info": {
   "codemirror_mode": {
    "name": "ipython",
    "version": 3
   },
   "file_extension": ".py",
   "mimetype": "text/x-python",
   "name": "python",
   "nbconvert_exporter": "python",
   "pygments_lexer": "ipython3",
   "version": "3.9.4"
  },
  "orig_nbformat": 4
 },
 "nbformat": 4,
 "nbformat_minor": 2
}
