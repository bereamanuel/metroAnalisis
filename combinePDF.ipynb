{
 "cells": [
  {
   "cell_type": "code",
   "execution_count": 1,
   "metadata": {},
   "outputs": [
    {
     "name": "stdout",
     "output_type": "stream",
     "text": [
      "Collecting pypdf2\n",
      "  Downloading PyPDF2-1.26.0.tar.gz (77 kB)\n",
      "     ---------------------------------------- 77.6/77.6 KB 1.1 MB/s eta 0:00:00\n",
      "  Preparing metadata (setup.py): started\n",
      "  Preparing metadata (setup.py): finished with status 'done'\n",
      "Building wheels for collected packages: pypdf2\n",
      "  Building wheel for pypdf2 (setup.py): started\n",
      "  Building wheel for pypdf2 (setup.py): finished with status 'done'\n",
      "  Created wheel for pypdf2: filename=PyPDF2-1.26.0-py3-none-any.whl size=61085 sha256=7acec0fd27d89e0f361c3c92b40948779e5e9285e2d502f336465fc15fac2596\n",
      "  Stored in directory: c:\\users\\manue\\appdata\\local\\pip\\cache\\wheels\\d9\\dc\\ec\\72da68331f30074b9950c1737c23cb8a67484e61498bc9713d\n",
      "Successfully built pypdf2\n",
      "Installing collected packages: pypdf2\n",
      "Successfully installed pypdf2-1.26.0\n"
     ]
    }
   ],
   "source": [
    "!pip install pypdf2"
   ]
  },
  {
   "cell_type": "code",
   "execution_count": 2,
   "metadata": {},
   "outputs": [],
   "source": [
    "\n",
    "from PyPDF2 import PdfFileMerger\n",
    "\n",
    "pdfs = [\"MetrofrecuenciaPortada.pdf\", \"memoria.pdf\"]\n",
    "nombre_archivo_salida = \"memoriaFinal.pdf\"\n",
    "fusionador = PdfFileMerger()\n",
    "\n",
    "for pdf in pdfs:\n",
    "    fusionador.append(open(pdf, 'rb'))\n",
    "\n",
    "with open(nombre_archivo_salida, 'wb') as salida:\n",
    "    fusionador.write(salida)"
   ]
  }
 ],
 "metadata": {
  "interpreter": {
   "hash": "de072921dc87486613898b1ef56959cc98c50a630fb49de1898fb32d92a683cf"
  },
  "kernelspec": {
   "display_name": "Python 3.9.4 64-bit",
   "language": "python",
   "name": "python3"
  },
  "language_info": {
   "codemirror_mode": {
    "name": "ipython",
    "version": 3
   },
   "file_extension": ".py",
   "mimetype": "text/x-python",
   "name": "python",
   "nbconvert_exporter": "python",
   "pygments_lexer": "ipython3",
   "version": "3.9.4"
  },
  "orig_nbformat": 4
 },
 "nbformat": 4,
 "nbformat_minor": 2
}
